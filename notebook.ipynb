{
 "cells": [
  {
   "cell_type": "markdown",
   "metadata": {},
   "source": [
    " <b><font size=\"20\"> Introduction </font></b>\n",
    " \n",
    " As the life expectancy continues to rise whilst birth rates are steadily decreasing, the aging population has seen a surge in recent decades which is expected to continue. Aging is a tremendous risk factor for a variety of health issues spanning from physical such as cardiovascular diseases, arthritis to mental such as dementia. \n"
   ]
  },
  {
   "cell_type": "code",
   "execution_count": null,
   "metadata": {
    "vscode": {
     "languageId": "plaintext"
    }
   },
   "outputs": [],
   "source": []
  }
 ],
 "metadata": {
  "language_info": {
   "name": "python"
  },
  "orig_nbformat": 4
 },
 "nbformat": 4,
 "nbformat_minor": 2
}
